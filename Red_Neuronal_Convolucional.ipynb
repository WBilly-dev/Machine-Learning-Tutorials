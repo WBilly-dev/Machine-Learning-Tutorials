{
 "cells": [
  {
   "cell_type": "markdown",
   "metadata": {},
   "source": [
    "## Imports"
   ]
  },
  {
   "cell_type": "code",
   "execution_count": 60,
   "metadata": {},
   "outputs": [],
   "source": [
    "import tensorflow as tf\n",
    "import matplotlib.pyplot as plt\n",
    "import numpy as np\n",
    "import pandas as pd\n",
    "import keras\n",
    "from tqdm import tqdm\n",
    "\n",
    "# DL\n",
    "from keras import layers"
   ]
  },
  {
   "cell_type": "markdown",
   "metadata": {},
   "source": [
    "## ***Data Loading***"
   ]
  },
  {
   "cell_type": "code",
   "execution_count": 61,
   "metadata": {},
   "outputs": [],
   "source": [
    "path = '../Datasets/COVID Qu Ex/Infection Segmentation Data'"
   ]
  },
  {
   "cell_type": "code",
   "execution_count": 62,
   "metadata": {},
   "outputs": [
    {
     "name": "stdout",
     "output_type": "stream",
     "text": [
      "Found 5826 files belonging to 3 classes.\n"
     ]
    }
   ],
   "source": [
    "dataset = keras.preprocessing.image_dataset_from_directory(\n",
    "    directory=path,\n",
    "    labels='inferred',\n",
    "    color_mode='rgb',\n",
    "    image_size=(120,120),\n",
    "    shuffle=True,\n",
    "    seed=50,\n",
    "    batch_size=1\n",
    "    \n",
    ")"
   ]
  },
  {
   "cell_type": "code",
   "execution_count": 63,
   "metadata": {},
   "outputs": [
    {
     "data": {
      "text/plain": [
       "['COVID-19', 'Non-COVID', 'Normal']"
      ]
     },
     "execution_count": 63,
     "metadata": {},
     "output_type": "execute_result"
    }
   ],
   "source": [
    "CLASS_NAMES = dataset.class_names\n",
    "CLASS_NAMES"
   ]
  },
  {
   "cell_type": "code",
   "execution_count": 64,
   "metadata": {},
   "outputs": [
    {
     "data": {
      "text/plain": [
       "tensorflow.python.data.ops.batch_op._BatchDataset"
      ]
     },
     "execution_count": 64,
     "metadata": {},
     "output_type": "execute_result"
    }
   ],
   "source": [
    "type(dataset)"
   ]
  },
  {
   "cell_type": "code",
   "execution_count": 65,
   "metadata": {},
   "outputs": [
    {
     "name": "stderr",
     "output_type": "stream",
     "text": [
      "100%|██████████| 5826/5826 [00:02<00:00, 2176.10it/s]\n"
     ]
    }
   ],
   "source": [
    "data = []\n",
    "for x, y in tqdm(dataset):\n",
    "    data.append((x,y))\n",
    "    "
   ]
  },
  {
   "cell_type": "code",
   "execution_count": 66,
   "metadata": {},
   "outputs": [],
   "source": [
    "df = pd.DataFrame(data, columns=['images','labels'])"
   ]
  },
  {
   "cell_type": "code",
   "execution_count": 67,
   "metadata": {},
   "outputs": [],
   "source": [
    "def Tensor_toScalar(x):\n",
    "    if isinstance(x, tf.Tensor):\n",
    "        return x.numpy()\n",
    "    else:\n",
    "        return x"
   ]
  },
  {
   "cell_type": "code",
   "execution_count": 68,
   "metadata": {},
   "outputs": [
    {
     "data": {
      "text/html": [
       "<div>\n",
       "<style scoped>\n",
       "    .dataframe tbody tr th:only-of-type {\n",
       "        vertical-align: middle;\n",
       "    }\n",
       "\n",
       "    .dataframe tbody tr th {\n",
       "        vertical-align: top;\n",
       "    }\n",
       "\n",
       "    .dataframe thead th {\n",
       "        text-align: right;\n",
       "    }\n",
       "</style>\n",
       "<table border=\"1\" class=\"dataframe\">\n",
       "  <thead>\n",
       "    <tr style=\"text-align: right;\">\n",
       "      <th></th>\n",
       "      <th>images</th>\n",
       "      <th>labels</th>\n",
       "    </tr>\n",
       "  </thead>\n",
       "  <tbody>\n",
       "    <tr>\n",
       "      <th>0</th>\n",
       "      <td>(((tf.Tensor([6.7811117 6.7811117 6.7811117], ...</td>\n",
       "      <td>(tf.Tensor(2, shape=(), dtype=int32))</td>\n",
       "    </tr>\n",
       "    <tr>\n",
       "      <th>1</th>\n",
       "      <td>(((tf.Tensor([13.245556 13.245556 13.245556], ...</td>\n",
       "      <td>(tf.Tensor(0, shape=(), dtype=int32))</td>\n",
       "    </tr>\n",
       "    <tr>\n",
       "      <th>2</th>\n",
       "      <td>(((tf.Tensor([39.545547 39.545547 39.545547], ...</td>\n",
       "      <td>(tf.Tensor(0, shape=(), dtype=int32))</td>\n",
       "    </tr>\n",
       "    <tr>\n",
       "      <th>3</th>\n",
       "      <td>(((tf.Tensor([22.133333 22.133333 22.133333], ...</td>\n",
       "      <td>(tf.Tensor(0, shape=(), dtype=int32))</td>\n",
       "    </tr>\n",
       "    <tr>\n",
       "      <th>4</th>\n",
       "      <td>(((tf.Tensor([0. 0. 0.], shape=(3,), dtype=flo...</td>\n",
       "      <td>(tf.Tensor(2, shape=(), dtype=int32))</td>\n",
       "    </tr>\n",
       "  </tbody>\n",
       "</table>\n",
       "</div>"
      ],
      "text/plain": [
       "                                              images  \\\n",
       "0  (((tf.Tensor([6.7811117 6.7811117 6.7811117], ...   \n",
       "1  (((tf.Tensor([13.245556 13.245556 13.245556], ...   \n",
       "2  (((tf.Tensor([39.545547 39.545547 39.545547], ...   \n",
       "3  (((tf.Tensor([22.133333 22.133333 22.133333], ...   \n",
       "4  (((tf.Tensor([0. 0. 0.], shape=(3,), dtype=flo...   \n",
       "\n",
       "                                  labels  \n",
       "0  (tf.Tensor(2, shape=(), dtype=int32))  \n",
       "1  (tf.Tensor(0, shape=(), dtype=int32))  \n",
       "2  (tf.Tensor(0, shape=(), dtype=int32))  \n",
       "3  (tf.Tensor(0, shape=(), dtype=int32))  \n",
       "4  (tf.Tensor(2, shape=(), dtype=int32))  "
      ]
     },
     "execution_count": 68,
     "metadata": {},
     "output_type": "execute_result"
    }
   ],
   "source": [
    "df.head()"
   ]
  },
  {
   "cell_type": "code",
   "execution_count": 69,
   "metadata": {},
   "outputs": [],
   "source": [
    "df = df.applymap(Tensor_toScalar)"
   ]
  },
  {
   "cell_type": "code",
   "execution_count": 70,
   "metadata": {},
   "outputs": [
    {
     "data": {
      "text/html": [
       "<div>\n",
       "<style scoped>\n",
       "    .dataframe tbody tr th:only-of-type {\n",
       "        vertical-align: middle;\n",
       "    }\n",
       "\n",
       "    .dataframe tbody tr th {\n",
       "        vertical-align: top;\n",
       "    }\n",
       "\n",
       "    .dataframe thead th {\n",
       "        text-align: right;\n",
       "    }\n",
       "</style>\n",
       "<table border=\"1\" class=\"dataframe\">\n",
       "  <thead>\n",
       "    <tr style=\"text-align: right;\">\n",
       "      <th></th>\n",
       "      <th>images</th>\n",
       "      <th>labels</th>\n",
       "    </tr>\n",
       "  </thead>\n",
       "  <tbody>\n",
       "    <tr>\n",
       "      <th>0</th>\n",
       "      <td>[[[[6.7811117 6.7811117 6.7811117], [23.089998...</td>\n",
       "      <td>[2]</td>\n",
       "    </tr>\n",
       "    <tr>\n",
       "      <th>1</th>\n",
       "      <td>[[[[13.245556 13.245556 13.245556], [13.696667...</td>\n",
       "      <td>[0]</td>\n",
       "    </tr>\n",
       "    <tr>\n",
       "      <th>2</th>\n",
       "      <td>[[[[39.545547 39.545547 39.545547], [33.959995...</td>\n",
       "      <td>[0]</td>\n",
       "    </tr>\n",
       "    <tr>\n",
       "      <th>3</th>\n",
       "      <td>[[[[22.133333 22.133333 22.133333], [22.133333...</td>\n",
       "      <td>[0]</td>\n",
       "    </tr>\n",
       "    <tr>\n",
       "      <th>4</th>\n",
       "      <td>[[[[0. 0. 0.], [5.8966684 5.8966684 5.8966684]...</td>\n",
       "      <td>[2]</td>\n",
       "    </tr>\n",
       "  </tbody>\n",
       "</table>\n",
       "</div>"
      ],
      "text/plain": [
       "                                              images labels\n",
       "0  [[[[6.7811117 6.7811117 6.7811117], [23.089998...    [2]\n",
       "1  [[[[13.245556 13.245556 13.245556], [13.696667...    [0]\n",
       "2  [[[[39.545547 39.545547 39.545547], [33.959995...    [0]\n",
       "3  [[[[22.133333 22.133333 22.133333], [22.133333...    [0]\n",
       "4  [[[[0. 0. 0.], [5.8966684 5.8966684 5.8966684]...    [2]"
      ]
     },
     "execution_count": 70,
     "metadata": {},
     "output_type": "execute_result"
    }
   ],
   "source": [
    "df.head()"
   ]
  },
  {
   "cell_type": "code",
   "execution_count": 71,
   "metadata": {},
   "outputs": [],
   "source": [
    "df['images'] = df['images']/255"
   ]
  },
  {
   "cell_type": "code",
   "execution_count": 72,
   "metadata": {},
   "outputs": [
    {
     "data": {
      "text/html": [
       "<div>\n",
       "<style scoped>\n",
       "    .dataframe tbody tr th:only-of-type {\n",
       "        vertical-align: middle;\n",
       "    }\n",
       "\n",
       "    .dataframe tbody tr th {\n",
       "        vertical-align: top;\n",
       "    }\n",
       "\n",
       "    .dataframe thead th {\n",
       "        text-align: right;\n",
       "    }\n",
       "</style>\n",
       "<table border=\"1\" class=\"dataframe\">\n",
       "  <thead>\n",
       "    <tr style=\"text-align: right;\">\n",
       "      <th></th>\n",
       "      <th>images</th>\n",
       "      <th>labels</th>\n",
       "    </tr>\n",
       "  </thead>\n",
       "  <tbody>\n",
       "    <tr>\n",
       "      <th>0</th>\n",
       "      <td>[[[[0.0265926 0.0265926 0.0265926], [0.0905490...</td>\n",
       "      <td>[2]</td>\n",
       "    </tr>\n",
       "    <tr>\n",
       "      <th>1</th>\n",
       "      <td>[[[[0.05194336 0.05194336 0.05194336], [0.0537...</td>\n",
       "      <td>[0]</td>\n",
       "    </tr>\n",
       "  </tbody>\n",
       "</table>\n",
       "</div>"
      ],
      "text/plain": [
       "                                              images labels\n",
       "0  [[[[0.0265926 0.0265926 0.0265926], [0.0905490...    [2]\n",
       "1  [[[[0.05194336 0.05194336 0.05194336], [0.0537...    [0]"
      ]
     },
     "execution_count": 72,
     "metadata": {},
     "output_type": "execute_result"
    }
   ],
   "source": [
    "df.head(2)"
   ]
  },
  {
   "cell_type": "markdown",
   "metadata": {},
   "source": [
    "## ***Exploratory Data Analisis***"
   ]
  },
  {
   "cell_type": "markdown",
   "metadata": {},
   "source": [
    "### Data Modeling"
   ]
  },
  {
   "cell_type": "code",
   "execution_count": 73,
   "metadata": {},
   "outputs": [
    {
     "name": "stdout",
     "output_type": "stream",
     "text": [
      "4078\n",
      "874\n",
      "874\n"
     ]
    }
   ],
   "source": [
    "from sklearn.model_selection import train_test_split\n",
    "x_train, x_test, y_train, y_test = train_test_split(df['images'],df['labels'],test_size=0.3)\n",
    "x_test, x_val, y_test, y_val = train_test_split(x_test,y_test,test_size=0.5)\n",
    "\n",
    "print(len(x_train))\n",
    "print(len(x_test))\n",
    "print(len(x_val))"
   ]
  },
  {
   "cell_type": "code",
   "execution_count": 74,
   "metadata": {},
   "outputs": [],
   "source": [
    "x_train = np.stack(x_train)\n",
    "y_train = np.stack(y_train)\n",
    "x_val = np.stack(x_val)\n",
    "y_val = np.stack(y_val)\n",
    "x_test = np.stack(x_test)\n",
    "y_test = np.stack(y_test)"
   ]
  },
  {
   "cell_type": "code",
   "execution_count": 75,
   "metadata": {},
   "outputs": [],
   "source": [
    "x_train = np.squeeze(x_train)\n",
    "y_train = np.squeeze(y_train)\n",
    "x_val = np.squeeze(x_val)\n",
    "y_val = np.squeeze(y_val)\n",
    "x_test = np.squeeze(x_test)\n",
    "y_test = np.squeeze(y_test)"
   ]
  },
  {
   "cell_type": "code",
   "execution_count": 76,
   "metadata": {},
   "outputs": [
    {
     "data": {
      "text/plain": [
       "(874, 120, 120, 3)"
      ]
     },
     "execution_count": 76,
     "metadata": {},
     "output_type": "execute_result"
    }
   ],
   "source": [
    "x_test.shape"
   ]
  },
  {
   "cell_type": "markdown",
   "metadata": {},
   "source": [
    "### Image Data Augmentation"
   ]
  },
  {
   "cell_type": "code",
   "execution_count": 77,
   "metadata": {},
   "outputs": [
    {
     "data": {
      "text/plain": [
       "keras.src.preprocessing.image.ImageDataGenerator"
      ]
     },
     "execution_count": 77,
     "metadata": {},
     "output_type": "execute_result"
    }
   ],
   "source": [
    "keras.preprocessing.image.ImageDataGenerator"
   ]
  },
  {
   "cell_type": "code",
   "execution_count": 78,
   "metadata": {},
   "outputs": [],
   "source": [
    "def FeNet():\n",
    "    \n",
    "    model = keras.Sequential()\n",
    "\n",
    "    model.add(layers.InputLayer((120,120,3)))\n",
    "    model.add(layers.Conv2D(16,3,strides=2, padding='same'))\n",
    "    model.add(layers.MaxPooling2D((2,2)))\n",
    "    model.add(layers.BatchNormalization())\n",
    "    model.add(layers.Dropout(0.3))\n",
    "\n",
    "    model.add(layers.Conv2D(32,3,strides=2, padding='same'))\n",
    "    model.add(layers.MaxPooling2D((2,2)))\n",
    "    model.add(layers.BatchNormalization())\n",
    "    model.add(layers.Dropout(0.3))\n",
    "    \n",
    "\n",
    "    model.add(layers.SeparableConv2D(64,3,strides=2, padding='same'))\n",
    "    model.add(layers.BatchNormalization())\n",
    "    model.add(layers.MaxPooling2D((2,2)))\n",
    "\n",
    "    model.add(layers.GlobalAveragePooling2D())\n",
    "    model.add(layers.Dense(3,activation='softmax'))\n",
    "\n",
    "\n",
    "    model.compile(optimizer=keras.optimizers.Adam(0.0003),loss='sparse_categorical_crossentropy', metrics=['accuracy'])\n",
    "\n",
    "    return model"
   ]
  },
  {
   "cell_type": "code",
   "execution_count": 79,
   "metadata": {},
   "outputs": [
    {
     "name": "stdout",
     "output_type": "stream",
     "text": [
      "Model: \"sequential_12\"\n",
      "_________________________________________________________________\n",
      " Layer (type)                Output Shape              Param #   \n",
      "=================================================================\n",
      " conv2d_39 (Conv2D)          (None, 60, 60, 16)        448       \n",
      "                                                                 \n",
      " max_pooling2d_27 (MaxPooli  (None, 30, 30, 16)        0         \n",
      " ng2D)                                                           \n",
      "                                                                 \n",
      " batch_normalization_27 (Ba  (None, 30, 30, 16)        64        \n",
      " tchNormalization)                                               \n",
      "                                                                 \n",
      " dropout_24 (Dropout)        (None, 30, 30, 16)        0         \n",
      "                                                                 \n",
      " conv2d_40 (Conv2D)          (None, 15, 15, 32)        4640      \n",
      "                                                                 \n",
      " max_pooling2d_28 (MaxPooli  (None, 7, 7, 32)          0         \n",
      " ng2D)                                                           \n",
      "                                                                 \n",
      " batch_normalization_28 (Ba  (None, 7, 7, 32)          128       \n",
      " tchNormalization)                                               \n",
      "                                                                 \n",
      " dropout_25 (Dropout)        (None, 7, 7, 32)          0         \n",
      "                                                                 \n",
      " separable_conv2d_12 (Separ  (None, 4, 4, 64)          2400      \n",
      " ableConv2D)                                                     \n",
      "                                                                 \n",
      " batch_normalization_29 (Ba  (None, 4, 4, 64)          256       \n",
      " tchNormalization)                                               \n",
      "                                                                 \n",
      " max_pooling2d_29 (MaxPooli  (None, 2, 2, 64)          0         \n",
      " ng2D)                                                           \n",
      "                                                                 \n",
      " global_average_pooling2d_8  (None, 64)                0         \n",
      "  (GlobalAveragePooling2D)                                       \n",
      "                                                                 \n",
      " dense_22 (Dense)            (None, 3)                 195       \n",
      "                                                                 \n",
      "=================================================================\n",
      "Total params: 8131 (31.76 KB)\n",
      "Trainable params: 7907 (30.89 KB)\n",
      "Non-trainable params: 224 (896.00 Byte)\n",
      "_________________________________________________________________\n"
     ]
    }
   ],
   "source": [
    "model = FeNet()\n",
    "model.summary()"
   ]
  },
  {
   "cell_type": "code",
   "execution_count": 80,
   "metadata": {},
   "outputs": [],
   "source": [
    "early_stop = keras.callbacks.EarlyStopping(monitor='val_accuracy', patience=7, restore_best_weights=True)\n",
    "lr = keras.callbacks.ReduceLROnPlateau(monitor='val_accuracy', factor=0.5, min_lr=0.00001,patience=3)"
   ]
  },
  {
   "cell_type": "code",
   "execution_count": 81,
   "metadata": {},
   "outputs": [
    {
     "name": "stdout",
     "output_type": "stream",
     "text": [
      "Epoch 1/100\n",
      "128/128 [==============================] - 8s 47ms/step - loss: 1.2174 - accuracy: 0.5135 - val_loss: 1.0686 - val_accuracy: 0.5126 - lr: 3.0000e-04\n",
      "Epoch 2/100\n",
      "128/128 [==============================] - 5s 35ms/step - loss: 0.8725 - accuracy: 0.6160 - val_loss: 1.0109 - val_accuracy: 0.5046 - lr: 3.0000e-04\n",
      "Epoch 3/100\n",
      "128/128 [==============================] - 5s 36ms/step - loss: 0.8457 - accuracy: 0.6425 - val_loss: 1.0044 - val_accuracy: 0.5618 - lr: 3.0000e-04\n",
      "Epoch 4/100\n",
      "128/128 [==============================] - 5s 36ms/step - loss: 0.8199 - accuracy: 0.6594 - val_loss: 0.8658 - val_accuracy: 0.6121 - lr: 3.0000e-04\n",
      "Epoch 5/100\n",
      "128/128 [==============================] - 5s 39ms/step - loss: 0.7981 - accuracy: 0.6724 - val_loss: 0.8422 - val_accuracy: 0.6236 - lr: 3.0000e-04\n",
      "Epoch 6/100\n",
      "128/128 [==============================] - 5s 37ms/step - loss: 0.7790 - accuracy: 0.6770 - val_loss: 0.7428 - val_accuracy: 0.6991 - lr: 3.0000e-04\n",
      "Epoch 7/100\n",
      "128/128 [==============================] - 5s 36ms/step - loss: 0.7692 - accuracy: 0.6810 - val_loss: 0.7785 - val_accuracy: 0.6705 - lr: 3.0000e-04\n",
      "Epoch 8/100\n",
      "128/128 [==============================] - 5s 36ms/step - loss: 0.7647 - accuracy: 0.6805 - val_loss: 0.7218 - val_accuracy: 0.7243 - lr: 3.0000e-04\n",
      "Epoch 9/100\n",
      "128/128 [==============================] - 5s 36ms/step - loss: 0.7504 - accuracy: 0.6913 - val_loss: 0.8248 - val_accuracy: 0.6419 - lr: 3.0000e-04\n",
      "Epoch 10/100\n",
      "128/128 [==============================] - 5s 37ms/step - loss: 0.7302 - accuracy: 0.6972 - val_loss: 0.6792 - val_accuracy: 0.7254 - lr: 3.0000e-04\n",
      "Epoch 11/100\n",
      "128/128 [==============================] - 5s 37ms/step - loss: 0.7252 - accuracy: 0.7035 - val_loss: 0.7943 - val_accuracy: 0.6773 - lr: 3.0000e-04\n",
      "Epoch 12/100\n",
      "128/128 [==============================] - 5s 36ms/step - loss: 0.7174 - accuracy: 0.7136 - val_loss: 0.7078 - val_accuracy: 0.7162 - lr: 3.0000e-04\n",
      "Epoch 13/100\n",
      "128/128 [==============================] - 4s 35ms/step - loss: 0.7062 - accuracy: 0.7160 - val_loss: 0.6576 - val_accuracy: 0.7494 - lr: 3.0000e-04\n",
      "Epoch 14/100\n",
      "128/128 [==============================] - 5s 36ms/step - loss: 0.6930 - accuracy: 0.7219 - val_loss: 0.6328 - val_accuracy: 0.7666 - lr: 3.0000e-04\n",
      "Epoch 15/100\n",
      "128/128 [==============================] - 5s 36ms/step - loss: 0.6911 - accuracy: 0.7256 - val_loss: 0.6391 - val_accuracy: 0.7517 - lr: 3.0000e-04\n",
      "Epoch 16/100\n",
      "128/128 [==============================] - 5s 36ms/step - loss: 0.6748 - accuracy: 0.7293 - val_loss: 0.7161 - val_accuracy: 0.7197 - lr: 3.0000e-04\n",
      "Epoch 17/100\n",
      "128/128 [==============================] - 5s 36ms/step - loss: 0.6685 - accuracy: 0.7361 - val_loss: 0.7463 - val_accuracy: 0.7002 - lr: 3.0000e-04\n",
      "Epoch 18/100\n",
      "128/128 [==============================] - 5s 36ms/step - loss: 0.6561 - accuracy: 0.7347 - val_loss: 0.6575 - val_accuracy: 0.7483 - lr: 1.5000e-04\n",
      "Epoch 19/100\n",
      "128/128 [==============================] - 5s 35ms/step - loss: 0.6519 - accuracy: 0.7386 - val_loss: 0.6314 - val_accuracy: 0.7540 - lr: 1.5000e-04\n",
      "Epoch 20/100\n",
      "128/128 [==============================] - 5s 36ms/step - loss: 0.6453 - accuracy: 0.7388 - val_loss: 0.6543 - val_accuracy: 0.7449 - lr: 1.5000e-04\n",
      "Epoch 21/100\n",
      "128/128 [==============================] - 5s 36ms/step - loss: 0.6332 - accuracy: 0.7513 - val_loss: 0.6059 - val_accuracy: 0.7860 - lr: 7.5000e-05\n",
      "Epoch 22/100\n",
      "128/128 [==============================] - 5s 36ms/step - loss: 0.6340 - accuracy: 0.7413 - val_loss: 0.5937 - val_accuracy: 0.7780 - lr: 7.5000e-05\n",
      "Epoch 23/100\n",
      "128/128 [==============================] - 5s 36ms/step - loss: 0.6413 - accuracy: 0.7455 - val_loss: 0.6676 - val_accuracy: 0.7449 - lr: 7.5000e-05\n",
      "Epoch 24/100\n",
      "128/128 [==============================] - 5s 36ms/step - loss: 0.6328 - accuracy: 0.7452 - val_loss: 0.5844 - val_accuracy: 0.7872 - lr: 7.5000e-05\n",
      "Epoch 25/100\n",
      "128/128 [==============================] - 5s 36ms/step - loss: 0.6348 - accuracy: 0.7472 - val_loss: 0.5852 - val_accuracy: 0.7929 - lr: 7.5000e-05\n",
      "Epoch 26/100\n",
      "128/128 [==============================] - 5s 37ms/step - loss: 0.6380 - accuracy: 0.7420 - val_loss: 0.5886 - val_accuracy: 0.7986 - lr: 7.5000e-05\n",
      "Epoch 27/100\n",
      "128/128 [==============================] - 5s 36ms/step - loss: 0.6322 - accuracy: 0.7509 - val_loss: 0.5845 - val_accuracy: 0.7918 - lr: 7.5000e-05\n",
      "Epoch 28/100\n",
      "128/128 [==============================] - 5s 37ms/step - loss: 0.6250 - accuracy: 0.7533 - val_loss: 0.6534 - val_accuracy: 0.7597 - lr: 7.5000e-05\n",
      "Epoch 29/100\n",
      "128/128 [==============================] - 5s 36ms/step - loss: 0.6312 - accuracy: 0.7484 - val_loss: 0.5928 - val_accuracy: 0.7826 - lr: 7.5000e-05\n",
      "Epoch 30/100\n",
      "128/128 [==============================] - 5s 36ms/step - loss: 0.6262 - accuracy: 0.7487 - val_loss: 0.5957 - val_accuracy: 0.7826 - lr: 3.7500e-05\n",
      "Epoch 31/100\n",
      "128/128 [==============================] - 5s 37ms/step - loss: 0.6123 - accuracy: 0.7616 - val_loss: 0.5798 - val_accuracy: 0.7872 - lr: 3.7500e-05\n",
      "Epoch 32/100\n",
      "128/128 [==============================] - 5s 37ms/step - loss: 0.6207 - accuracy: 0.7536 - val_loss: 0.5987 - val_accuracy: 0.7792 - lr: 3.7500e-05\n",
      "Epoch 33/100\n",
      "128/128 [==============================] - 5s 37ms/step - loss: 0.6101 - accuracy: 0.7614 - val_loss: 0.5847 - val_accuracy: 0.7872 - lr: 1.8750e-05\n"
     ]
    },
    {
     "data": {
      "text/plain": [
       "<keras.src.callbacks.History at 0x20039c3ab50>"
      ]
     },
     "execution_count": 81,
     "metadata": {},
     "output_type": "execute_result"
    }
   ],
   "source": [
    "model.fit(x_train, y_train, validation_data=(x_val, y_val),epochs=100, verbose=1, callbacks=[early_stop, lr])"
   ]
  },
  {
   "cell_type": "code",
   "execution_count": null,
   "metadata": {},
   "outputs": [],
   "source": []
  },
  {
   "cell_type": "code",
   "execution_count": null,
   "metadata": {},
   "outputs": [],
   "source": []
  },
  {
   "cell_type": "code",
   "execution_count": null,
   "metadata": {},
   "outputs": [],
   "source": []
  }
 ],
 "metadata": {
  "kernelspec": {
   "display_name": "Python 3",
   "language": "python",
   "name": "python3"
  },
  "language_info": {
   "codemirror_mode": {
    "name": "ipython",
    "version": 3
   },
   "file_extension": ".py",
   "mimetype": "text/x-python",
   "name": "python",
   "nbconvert_exporter": "python",
   "pygments_lexer": "ipython3",
   "version": "3.11.5"
  },
  "orig_nbformat": 4
 },
 "nbformat": 4,
 "nbformat_minor": 2
}
