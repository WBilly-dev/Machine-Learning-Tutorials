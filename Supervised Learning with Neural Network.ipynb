{
 "cells": [
  {
   "cell_type": "markdown",
   "metadata": {},
   "source": [
    "<h2>Importamos las librerías necesarias</h2>"
   ]
  },
  {
   "cell_type": "code",
   "execution_count": 14,
   "metadata": {},
   "outputs": [],
   "source": [
    "from __future__ import absolute_import,division,print_function,unicode_literals\n",
    "import os\n",
    "#Importamos TF y Keras\n",
    "import tensorflow as tf\n",
    "from tensorflow import keras\n",
    "#Para nombrar archivos\n",
    "import datetime\n",
    "import numpy as np\n",
    "import matplotlib.pyplot as plt\n"
   ]
  },
  {
   "cell_type": "markdown",
   "metadata": {},
   "source": [
    "<h2>Cargamos el Dataset a utilizar</h2>"
   ]
  },
  {
   "cell_type": "code",
   "execution_count": 15,
   "metadata": {},
   "outputs": [],
   "source": [
    "f=keras.datasets.fashion_mnist\n",
    "(train_images,train_labels),(test_images,test_labels)=f.load_data()"
   ]
  },
  {
   "cell_type": "markdown",
   "metadata": {},
   "source": [
    "<h2>Comprobamos que fue cargado correctamente</h2>"
   ]
  },
  {
   "cell_type": "code",
   "execution_count": 16,
   "metadata": {},
   "outputs": [
    {
     "data": {
      "image/png": "[encoded data removed]",
      "text/plain": [
       "<Figure size 640x480 with 2 Axes>"
      ]
     },
     "metadata": {},
     "output_type": "display_data"
    }
   ],
   "source": [
    "plt.figure()\n",
    "plt.imshow(train_images[0])\n",
    "plt.colorbar()\n",
    "plt.grid(False)\n",
    "plt.show()"
   ]
  },
  {
   "cell_type": "markdown",
   "metadata": {},
   "source": [
    "<h2>Creamos las etiquetas</h2>"
   ]
  },
  {
   "cell_type": "code",
   "execution_count": 17,
   "metadata": {},
   "outputs": [],
   "source": [
    "class_names=['Camiseta','Pantalon','Sueter','Vestido','Abrigo','Sandalia','Camisa','Zapatilla Deportiva','Bolso','Botines']"
   ]
  },
  {
   "cell_type": "markdown",
   "metadata": {},
   "source": [
    "<h2>Reescalamos los datos de entrenamiento y testeo</h2>"
   ]
  },
  {
   "cell_type": "code",
   "execution_count": 18,
   "metadata": {},
   "outputs": [],
   "source": [
    "train_images=train_images / 255\n",
    "test_images=test_images / 255"
   ]
  },
  {
   "cell_type": "markdown",
   "metadata": {},
   "source": [
    "<h2>Creamos las capas de la red neuronal</h2>"
   ]
  },
  {
   "cell_type": "code",
   "execution_count": 19,
   "metadata": {},
   "outputs": [],
   "source": [
    "model2=keras.Sequential([\n",
    "    keras.layers.Flatten(input_shape=(28,28)),\n",
    "    keras.layers.Dense(15,activation='relu'),\n",
    "    keras.layers.Dense(10,activation='softmax')\n",
    "])"
   ]
  },
  {
   "cell_type": "markdown",
   "metadata": {},
   "source": [
    "<h2>Especificamos en el compilador el tipo de optimizador y el método para tratar las pérdidas y las métricas</h2>"
   ]
  },
  {
   "cell_type": "code",
   "execution_count": 20,
   "metadata": {},
   "outputs": [],
   "source": [
    "model2.compile(optimizer='adam', loss='sparse_categorical_crossentropy',metrics=['accuracy'])"
   ]
  },
  {
   "cell_type": "markdown",
   "metadata": {},
   "source": [
    "<h2>Comprobamos la precisión del modelo antes de entrenarlo , luego de entrenarlo se puede ejecutar esta línea nuevamente para ver el avance</h2>"
   ]
  },
  {
   "cell_type": "code",
   "execution_count": 25,
   "metadata": {},
   "outputs": [
    {
     "name": "stdout",
     "output_type": "stream",
     "text": [
      "313/313 [==============================] - 0s 1ms/step - loss: 0.4194 - accuracy: 0.8542\n"
     ]
    }
   ],
   "source": [
    "test_loss , test_accuracy = model2.evaluate(test_images,test_labels)"
   ]
  },
  {
   "cell_type": "code",
   "execution_count": 22,
   "metadata": {},
   "outputs": [
    {
     "name": "stdout",
     "output_type": "stream",
     "text": [
      "Precision: 0.09189999848604202\n"
     ]
    }
   ],
   "source": [
    "#Comprobamos la precision del modelo\n",
    "print(\"Precision:\",test_accuracy)"
   ]
  },
  {
   "cell_type": "markdown",
   "metadata": {},
   "source": [
    "<h2>Entrenamos nuestro modelo y guardamos con un checkpoint cada iteración que realiza por épocas en un checkpoint path personalizado con la fecha en la que se ejecutó</h2>"
   ]
  },
  {
   "cell_type": "code",
   "execution_count": 23,
   "metadata": {},
   "outputs": [
    {
     "name": "stdout",
     "output_type": "stream",
     "text": [
      "Epoch 1/10\n",
      "1851/1875 [============================>.] - ETA: 0s - loss: 0.6205 - accuracy: 0.7840\n",
      "Epoch 1: saving model to checkpoints\\check\n",
      "1875/1875 [==============================] - 5s 2ms/step - loss: 0.6174 - accuracy: 0.7850 - val_loss: 0.5041 - val_accuracy: 0.8224\n",
      "Epoch 2/10\n",
      "1846/1875 [============================>.] - ETA: 0s - loss: 0.4420 - accuracy: 0.8454\n",
      "Epoch 2: saving model to checkpoints\\check\n",
      "1875/1875 [==============================] - 4s 2ms/step - loss: 0.4416 - accuracy: 0.8456 - val_loss: 0.4587 - val_accuracy: 0.8385\n",
      "Epoch 3/10\n",
      "1846/1875 [============================>.] - ETA: 0s - loss: 0.4132 - accuracy: 0.8547\n",
      "Epoch 3: saving model to checkpoints\\check\n",
      "1875/1875 [==============================] - 4s 2ms/step - loss: 0.4131 - accuracy: 0.8547 - val_loss: 0.4606 - val_accuracy: 0.8371\n",
      "Epoch 4/10\n",
      "1863/1875 [============================>.] - ETA: 0s - loss: 0.3976 - accuracy: 0.8601\n",
      "Epoch 4: saving model to checkpoints\\check\n",
      "1875/1875 [==============================] - 4s 2ms/step - loss: 0.3976 - accuracy: 0.8601 - val_loss: 0.4315 - val_accuracy: 0.8486\n",
      "Epoch 5/10\n",
      "1869/1875 [============================>.] - ETA: 0s - loss: 0.3857 - accuracy: 0.8640\n",
      "Epoch 5: saving model to checkpoints\\check\n",
      "1875/1875 [==============================] - 4s 2ms/step - loss: 0.3857 - accuracy: 0.8641 - val_loss: 0.4276 - val_accuracy: 0.8511\n",
      "Epoch 6/10\n",
      "1864/1875 [============================>.] - ETA: 0s - loss: 0.3772 - accuracy: 0.8673\n",
      "Epoch 6: saving model to checkpoints\\check\n",
      "1875/1875 [==============================] - 4s 2ms/step - loss: 0.3772 - accuracy: 0.8673 - val_loss: 0.4254 - val_accuracy: 0.8515\n",
      "Epoch 7/10\n",
      "1849/1875 [============================>.] - ETA: 0s - loss: 0.3698 - accuracy: 0.8695\n",
      "Epoch 7: saving model to checkpoints\\check\n",
      "1875/1875 [==============================] - 4s 2ms/step - loss: 0.3697 - accuracy: 0.8695 - val_loss: 0.4340 - val_accuracy: 0.8494\n",
      "Epoch 8/10\n",
      "1861/1875 [============================>.] - ETA: 0s - loss: 0.3642 - accuracy: 0.8713\n",
      "Epoch 8: saving model to checkpoints\\check\n",
      "1875/1875 [==============================] - 4s 2ms/step - loss: 0.3639 - accuracy: 0.8713 - val_loss: 0.4254 - val_accuracy: 0.8508\n",
      "Epoch 9/10\n",
      "1860/1875 [============================>.] - ETA: 0s - loss: 0.3597 - accuracy: 0.8734\n",
      "Epoch 9: saving model to checkpoints\\check\n",
      "1875/1875 [==============================] - 4s 2ms/step - loss: 0.3595 - accuracy: 0.8734 - val_loss: 0.4246 - val_accuracy: 0.8550\n",
      "Epoch 10/10\n",
      "1867/1875 [============================>.] - ETA: 0s - loss: 0.3545 - accuracy: 0.8745\n",
      "Epoch 10: saving model to checkpoints\\check\n",
      "1875/1875 [==============================] - 4s 2ms/step - loss: 0.3544 - accuracy: 0.8745 - val_loss: 0.4194 - val_accuracy: 0.8542\n"
     ]
    },
    {
     "data": {
      "text/plain": [
       "<keras.src.callbacks.History at 0x16e6a729e10>"
      ]
     },
     "execution_count": 23,
     "metadata": {},
     "output_type": "execute_result"
    }
   ],
   "source": [
    "checkpoint_path='checkpoints/check'\n",
    "log_dir=\"logs/fit/\"+datetime.datetime.now().strftime('%Y%m%d-%H%M%S')\n",
    "cp_callbacks=tf.keras.callbacks.ModelCheckpoint(checkpoint_path,save_weights_only=True,verbose=1)\n",
    "tensorboard_callback=tf.keras.callbacks.TensorBoard(log_dir,histogram_freq=1)\n",
    "\n",
    "\n",
    "model2.fit(train_images,train_labels,epochs=10,validation_data=(test_images,test_labels),callbacks=[cp_callbacks,tensorboard_callback])"
   ]
  },
  {
   "cell_type": "markdown",
   "metadata": {},
   "source": [
    "<h2>Evaluamos la precisión y las pérdidas de nuestro modelo</h2>"
   ]
  },
  {
   "cell_type": "code",
   "execution_count": 24,
   "metadata": {},
   "outputs": [
    {
     "name": "stdout",
     "output_type": "stream",
     "text": [
      "313/313 [==============================] - 0s 1ms/step - loss: 0.4194 - accuracy: 0.8542\n",
      "Precision: 0.854200005531311\n"
     ]
    }
   ],
   "source": [
    "test_loss , test_accuracy = model2.evaluate(test_images,test_labels)\n",
    "print(\"Precision:\",test_accuracy)"
   ]
  }
 ],
 "metadata": {
  "kernelspec": {
   "display_name": "Python 3",
   "language": "python",
   "name": "python3"
  },
  "language_info": {
   "codemirror_mode": {
    "name": "ipython",
    "version": 3
   },
   "file_extension": ".py",
   "mimetype": "text/x-python",
   "name": "python",
   "nbconvert_exporter": "python",
   "pygments_lexer": "ipython3",
   "version": "3.11.4"
  },
  "orig_nbformat": 4
 },
 "nbformat": 4,
 "nbformat_minor": 2
}
